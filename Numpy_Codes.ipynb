{
 "cells": [
  {
   "cell_type": "code",
   "execution_count": 1,
   "id": "7b414c33",
   "metadata": {},
   "outputs": [],
   "source": [
    "import numpy as np"
   ]
  },
  {
   "cell_type": "code",
   "execution_count": 2,
   "id": "18fdca59",
   "metadata": {},
   "outputs": [
    {
     "name": "stdout",
     "output_type": "stream",
     "text": [
      "[1 2 2 3]\n"
     ]
    }
   ],
   "source": [
    "arr_1d=np.array([1,2,2,3,\n",
    "                ])\n",
    "print(arr_1d)"
   ]
  },
  {
   "cell_type": "code",
   "execution_count": 3,
   "id": "75c6c4ef",
   "metadata": {},
   "outputs": [
    {
     "data": {
      "text/plain": [
       "numpy.ndarray"
      ]
     },
     "execution_count": 3,
     "metadata": {},
     "output_type": "execute_result"
    }
   ],
   "source": [
    "type(arr_1d)"
   ]
  },
  {
   "cell_type": "code",
   "execution_count": 4,
   "id": "36c5df86",
   "metadata": {},
   "outputs": [
    {
     "data": {
      "text/plain": [
       "dtype('int32')"
      ]
     },
     "execution_count": 4,
     "metadata": {},
     "output_type": "execute_result"
    }
   ],
   "source": [
    "arr_1d.dtype"
   ]
  },
  {
   "cell_type": "code",
   "execution_count": 5,
   "id": "8644a6f6",
   "metadata": {},
   "outputs": [],
   "source": [
    "arr_2d=np.array([[1,2,3,4],\n",
    "                 [3,4,5,6],\n",
    "                 [7,8,90,9]\n",
    "                ])"
   ]
  },
  {
   "cell_type": "code",
   "execution_count": 6,
   "id": "d0e75e8a",
   "metadata": {},
   "outputs": [
    {
     "name": "stdout",
     "output_type": "stream",
     "text": [
      "[[ 1  2  3  4]\n",
      " [ 3  4  5  6]\n",
      " [ 7  8 90  9]]\n"
     ]
    }
   ],
   "source": [
    "print(arr_2d\n",
    "     )"
   ]
  },
  {
   "cell_type": "code",
   "execution_count": 7,
   "id": "411c3a01",
   "metadata": {},
   "outputs": [],
   "source": [
    "arr_1d=np.array((2,4 ) , dtype=bool)"
   ]
  },
  {
   "cell_type": "code",
   "execution_count": 8,
   "id": "71f8b7ec",
   "metadata": {},
   "outputs": [
    {
     "name": "stdout",
     "output_type": "stream",
     "text": [
      "[ True  True]\n"
     ]
    }
   ],
   "source": [
    "print(arr_1d)"
   ]
  },
  {
   "cell_type": "code",
   "execution_count": 9,
   "id": "640171e1",
   "metadata": {},
   "outputs": [
    {
     "data": {
      "text/plain": [
       "array([[ True,  True,  True,  True],\n",
       "       [ True,  True,  True,  True],\n",
       "       [ True,  True,  True,  True]])"
      ]
     },
     "execution_count": 9,
     "metadata": {},
     "output_type": "execute_result"
    }
   ],
   "source": [
    "np.ones((3,4), dtype='bool')"
   ]
  },
  {
   "cell_type": "code",
   "execution_count": 10,
   "id": "66a38f7f",
   "metadata": {},
   "outputs": [
    {
     "data": {
      "text/plain": [
       "array([[False, False, False, False, False, False],\n",
       "       [False, False, False, False, False, False],\n",
       "       [False, False, False, False, False, False],\n",
       "       [False, False, False, False, False, False],\n",
       "       [False, False, False, False, False, False]])"
      ]
     },
     "execution_count": 10,
     "metadata": {},
     "output_type": "execute_result"
    }
   ],
   "source": [
    "np.zeros((5,6), dtype='bool')"
   ]
  },
  {
   "cell_type": "code",
   "execution_count": 11,
   "id": "9157c0e5",
   "metadata": {},
   "outputs": [
    {
     "data": {
      "text/plain": [
       "array([['', '', '', '', ''],\n",
       "       ['', '', '', '', ''],\n",
       "       ['', '', '', '', ''],\n",
       "       ['', '', '', '', '']], dtype='<U1')"
      ]
     },
     "execution_count": 11,
     "metadata": {},
     "output_type": "execute_result"
    }
   ],
   "source": [
    "np.zeros((4,5), dtype=str)"
   ]
  },
  {
   "cell_type": "markdown",
   "id": "f561dae7",
   "metadata": {},
   "source": [
    "\n",
    "# Numpy Function"
   ]
  },
  {
   "cell_type": "markdown",
   "id": "896962c1",
   "metadata": {},
   "source": [
    "# arrange()"
   ]
  },
  {
   "cell_type": "code",
   "execution_count": 12,
   "id": "8304677b",
   "metadata": {},
   "outputs": [],
   "source": [
    "arr1d=np.arange(1,13)\n"
   ]
  },
  {
   "cell_type": "code",
   "execution_count": 27,
   "id": "322a24dc",
   "metadata": {},
   "outputs": [
    {
     "name": "stdout",
     "output_type": "stream",
     "text": [
      "[ 1  3  5  7  9 11 13]\n"
     ]
    }
   ],
   "source": [
    "#np.arange(start, end , steps)\n",
    "print(np.arange(1,15,2))#for giving spaces between number"
   ]
  },
  {
   "cell_type": "markdown",
   "id": "143b5d19",
   "metadata": {},
   "source": [
    "# Linspace()"
   ]
  },
  {
   "cell_type": "code",
   "execution_count": 14,
   "id": "84c919fc",
   "metadata": {},
   "outputs": [],
   "source": [
    "#np.linspace(start, end , tofindvalue)\n",
    "apla=np.linspace(1,8,3)#for space b/w characters"
   ]
  },
  {
   "cell_type": "code",
   "execution_count": 15,
   "id": "0e42273d",
   "metadata": {},
   "outputs": [
    {
     "name": "stdout",
     "output_type": "stream",
     "text": [
      "[1.  4.5 8. ]\n"
     ]
    }
   ],
   "source": [
    "print(apla)"
   ]
  },
  {
   "cell_type": "markdown",
   "id": "1dd872cc",
   "metadata": {},
   "source": [
    "# reshape()"
   ]
  },
  {
   "cell_type": "code",
   "execution_count": 16,
   "id": "6019aa06",
   "metadata": {},
   "outputs": [
    {
     "name": "stdout",
     "output_type": "stream",
     "text": [
      "[[ 1  2  3  4  5  6]\n",
      " [ 7  8  9 10 11 12]]\n"
     ]
    }
   ],
   "source": [
    "ar_2d=arr1d.reshape(2,6)#For 2D array\n",
    "print(ar_2d)"
   ]
  },
  {
   "cell_type": "code",
   "execution_count": 22,
   "id": "03fe85de",
   "metadata": {},
   "outputs": [
    {
     "name": "stdout",
     "output_type": "stream",
     "text": [
      "[[[ 1  2]\n",
      "  [ 3  4]\n",
      "  [ 5  6]]\n",
      "\n",
      " [[ 7  8]\n",
      "  [ 9 10]\n",
      "  [11 12]]]\n"
     ]
    }
   ],
   "source": [
    "ar_3d=arr1d.reshape(2,3,2)#For 3D array\n",
    "print(ar_3d)"
   ]
  },
  {
   "cell_type": "code",
   "execution_count": 28,
   "id": "7ba84664",
   "metadata": {},
   "outputs": [
    {
     "name": "stdout",
     "output_type": "stream",
     "text": [
      "[[ 1  2  3  4  5  6]\n",
      " [ 7  8  9 10 11 12]]\n"
     ]
    }
   ],
   "source": [
    "ar=np.arange(1,13).reshape(2,6)\n",
    "print(ar)"
   ]
  },
  {
   "cell_type": "markdown",
   "id": "44936802",
   "metadata": {},
   "source": [
    "# ravel()"
   ]
  },
  {
   "cell_type": "code",
   "execution_count": 29,
   "id": "2e0b8066",
   "metadata": {},
   "outputs": [
    {
     "data": {
      "text/plain": [
       "array([ 1,  2,  3,  4,  5,  6,  7,  8,  9, 10, 11, 12])"
      ]
     },
     "execution_count": 29,
     "metadata": {},
     "output_type": "execute_result"
    }
   ],
   "source": [
    "ar.ravel()#converts multiple dimmension array to 1d"
   ]
  },
  {
   "cell_type": "markdown",
   "id": "bb3ed7fd",
   "metadata": {},
   "source": [
    "# flatten()"
   ]
  },
  {
   "cell_type": "code",
   "execution_count": 30,
   "id": "fea90f20",
   "metadata": {},
   "outputs": [
    {
     "data": {
      "text/plain": [
       "array([ 1,  2,  3,  4,  5,  6,  7,  8,  9, 10, 11, 12])"
      ]
     },
     "execution_count": 30,
     "metadata": {},
     "output_type": "execute_result"
    }
   ],
   "source": [
    "ar.flatten() #coverts array into single dimension"
   ]
  },
  {
   "cell_type": "markdown",
   "id": "fbb6ab00",
   "metadata": {},
   "source": [
    "# transpose()"
   ]
  },
  {
   "cell_type": "code",
   "execution_count": 31,
   "id": "f3990b07",
   "metadata": {},
   "outputs": [
    {
     "data": {
      "text/plain": [
       "array([[ 1,  7],\n",
       "       [ 2,  8],\n",
       "       [ 3,  9],\n",
       "       [ 4, 10],\n",
       "       [ 5, 11],\n",
       "       [ 6, 12]])"
      ]
     },
     "execution_count": 31,
     "metadata": {},
     "output_type": "execute_result"
    }
   ],
   "source": [
    "ar.transpose()# converts rows into columns and vice versa (just like transpose in matrixs)"
   ]
  },
  {
   "cell_type": "markdown",
   "id": "90063477",
   "metadata": {},
   "source": [
    "# Mathematical Operations on numPy"
   ]
  },
  {
   "cell_type": "code",
   "execution_count": 32,
   "id": "65e17a6c",
   "metadata": {},
   "outputs": [],
   "source": [
    "#creating own array by just including range through arange() and defining no of rows and columns by reshape() "
   ]
  },
  {
   "cell_type": "code",
   "execution_count": 33,
   "id": "9361668a",
   "metadata": {},
   "outputs": [],
   "source": [
    "arr1= np.arange(1,10).reshape(3,3)"
   ]
  },
  {
   "cell_type": "code",
   "execution_count": 34,
   "id": "b9ca03d2",
   "metadata": {},
   "outputs": [],
   "source": [
    "arr2=np.arange(1,10).reshape(3,3)"
   ]
  },
  {
   "cell_type": "code",
   "execution_count": 35,
   "id": "bcb6e111",
   "metadata": {},
   "outputs": [
    {
     "name": "stdout",
     "output_type": "stream",
     "text": [
      "[[1 2 3]\n",
      " [4 5 6]\n",
      " [7 8 9]]\n",
      "[[1 2 3]\n",
      " [4 5 6]\n",
      " [7 8 9]]\n"
     ]
    }
   ],
   "source": [
    "print(arr1)\n",
    "print(arr2)"
   ]
  },
  {
   "cell_type": "code",
   "execution_count": 36,
   "id": "78dea285",
   "metadata": {},
   "outputs": [
    {
     "data": {
      "text/plain": [
       "array([[ 2,  4,  6],\n",
       "       [ 8, 10, 12],\n",
       "       [14, 16, 18]])"
      ]
     },
     "execution_count": 36,
     "metadata": {},
     "output_type": "execute_result"
    }
   ],
   "source": [
    "arr1+arr2"
   ]
  },
  {
   "cell_type": "code",
   "execution_count": 38,
   "id": "b9f6bcdf",
   "metadata": {},
   "outputs": [
    {
     "data": {
      "text/plain": [
       "array([[ 2,  4,  6],\n",
       "       [ 8, 10, 12],\n",
       "       [14, 16, 18]])"
      ]
     },
     "execution_count": 38,
     "metadata": {},
     "output_type": "execute_result"
    }
   ],
   "source": [
    "#OR \n",
    "np.add(arr1,arr2) #similarly subtract multiply or divvison can be done"
   ]
  },
  {
   "cell_type": "code",
   "execution_count": 39,
   "id": "bf11a580",
   "metadata": {},
   "outputs": [
    {
     "data": {
      "text/plain": [
       "array([[ 1,  4,  9],\n",
       "       [16, 25, 36],\n",
       "       [49, 64, 81]])"
      ]
     },
     "execution_count": 39,
     "metadata": {},
     "output_type": "execute_result"
    }
   ],
   "source": [
    "np.multiply(arr1,arr2)# but this is row by row multiplication for matrix multiplication use following cell code"
   ]
  },
  {
   "cell_type": "code",
   "execution_count": 40,
   "id": "5bc3070f",
   "metadata": {},
   "outputs": [
    {
     "data": {
      "text/plain": [
       "array([[ 30,  36,  42],\n",
       "       [ 66,  81,  96],\n",
       "       [102, 126, 150]])"
      ]
     },
     "execution_count": 40,
     "metadata": {},
     "output_type": "execute_result"
    }
   ],
   "source": [
    "arr1@arr2#just like multiplication in maths as first row firs column , second row second column and soo on"
   ]
  },
  {
   "cell_type": "code",
   "execution_count": 41,
   "id": "88c01983",
   "metadata": {},
   "outputs": [
    {
     "data": {
      "text/plain": [
       "array([[ 30,  36,  42],\n",
       "       [ 66,  81,  96],\n",
       "       [102, 126, 150]])"
      ]
     },
     "execution_count": 41,
     "metadata": {},
     "output_type": "execute_result"
    }
   ],
   "source": [
    "#Or \n",
    "arr1.dot(arr2)"
   ]
  },
  {
   "cell_type": "code",
   "execution_count": 42,
   "id": "35afef82",
   "metadata": {},
   "outputs": [
    {
     "data": {
      "text/plain": [
       "array([[1, 2, 3],\n",
       "       [4, 5, 6],\n",
       "       [7, 8, 9]])"
      ]
     },
     "execution_count": 42,
     "metadata": {},
     "output_type": "execute_result"
    }
   ],
   "source": [
    "arr1"
   ]
  },
  {
   "cell_type": "code",
   "execution_count": 43,
   "id": "ac5cf436",
   "metadata": {},
   "outputs": [
    {
     "data": {
      "text/plain": [
       "9"
      ]
     },
     "execution_count": 43,
     "metadata": {},
     "output_type": "execute_result"
    }
   ],
   "source": [
    "#for Maximum in matrix\n",
    "arr1.max()"
   ]
  },
  {
   "cell_type": "code",
   "execution_count": 44,
   "id": "49df9a9d",
   "metadata": {},
   "outputs": [
    {
     "data": {
      "text/plain": [
       "8"
      ]
     },
     "execution_count": 44,
     "metadata": {},
     "output_type": "execute_result"
    }
   ],
   "source": [
    "arr1.argmax() #to find maximum value index"
   ]
  },
  {
   "cell_type": "code",
   "execution_count": 47,
   "id": "15546dee",
   "metadata": {},
   "outputs": [
    {
     "name": "stdout",
     "output_type": "stream",
     "text": [
      "[[1 2 3]\n",
      " [4 5 6]\n",
      " [7 8 9]]\n"
     ]
    },
    {
     "data": {
      "text/plain": [
       "array([7, 8, 9])"
      ]
     },
     "execution_count": 47,
     "metadata": {},
     "output_type": "execute_result"
    }
   ],
   "source": [
    "print(arr1)\n",
    "arr1.max(axis=0)# to find max in column and column is represented by 0 and row by 1"
   ]
  },
  {
   "cell_type": "code",
   "execution_count": 49,
   "id": "88805c17",
   "metadata": {},
   "outputs": [
    {
     "name": "stdout",
     "output_type": "stream",
     "text": [
      "[[1 2 3]\n",
      " [4 5 6]\n",
      " [7 8 9]]\n"
     ]
    },
    {
     "data": {
      "text/plain": [
       "array([3, 6, 9])"
      ]
     },
     "execution_count": 49,
     "metadata": {},
     "output_type": "execute_result"
    }
   ],
   "source": [
    "print(arr2)\n",
    "arr1.max(axis=1)#similarly minimum can be found by min()"
   ]
  },
  {
   "cell_type": "code",
   "execution_count": 50,
   "id": "602961bc",
   "metadata": {},
   "outputs": [
    {
     "data": {
      "text/plain": [
       "45"
      ]
     },
     "execution_count": 50,
     "metadata": {},
     "output_type": "execute_result"
    }
   ],
   "source": [
    "np.sum(arr1)#for sum all values in matrix"
   ]
  },
  {
   "cell_type": "code",
   "execution_count": 51,
   "id": "db2d5803",
   "metadata": {},
   "outputs": [
    {
     "data": {
      "text/plain": [
       "array([12, 15, 18])"
      ]
     },
     "execution_count": 51,
     "metadata": {},
     "output_type": "execute_result"
    }
   ],
   "source": [
    "np.sum(arr1, axis=0)#for column values sum"
   ]
  },
  {
   "cell_type": "code",
   "execution_count": 52,
   "id": "05dceed1",
   "metadata": {},
   "outputs": [
    {
     "data": {
      "text/plain": [
       "array([ 6, 15, 24])"
      ]
     },
     "execution_count": 52,
     "metadata": {},
     "output_type": "execute_result"
    }
   ],
   "source": [
    "np.sum(arr1, axis=1)#for row  values sum"
   ]
  },
  {
   "cell_type": "code",
   "execution_count": 53,
   "id": "55b90c9e",
   "metadata": {},
   "outputs": [
    {
     "data": {
      "text/plain": [
       "5.0"
      ]
     },
     "execution_count": 53,
     "metadata": {},
     "output_type": "execute_result"
    }
   ],
   "source": [
    "np.mean(arr1)#for avg of matrix"
   ]
  },
  {
   "cell_type": "code",
   "execution_count": 54,
   "id": "5916be52",
   "metadata": {},
   "outputs": [
    {
     "data": {
      "text/plain": [
       "array([2., 5., 8.])"
      ]
     },
     "execution_count": 54,
     "metadata": {},
     "output_type": "execute_result"
    }
   ],
   "source": [
    "np.mean(arr1, axis=1)# for avg value in row"
   ]
  },
  {
   "cell_type": "code",
   "execution_count": 55,
   "id": "d922dab1",
   "metadata": {},
   "outputs": [
    {
     "data": {
      "text/plain": [
       "array([4., 5., 6.])"
      ]
     },
     "execution_count": 55,
     "metadata": {},
     "output_type": "execute_result"
    }
   ],
   "source": [
    "np.mean(arr1, axis=0)#for avg value in coolumn"
   ]
  },
  {
   "cell_type": "code",
   "execution_count": 56,
   "id": "a5f2fc6d",
   "metadata": {},
   "outputs": [
    {
     "data": {
      "text/plain": [
       "array([[1.        , 1.41421356, 1.73205081],\n",
       "       [2.        , 2.23606798, 2.44948974],\n",
       "       [2.64575131, 2.82842712, 3.        ]])"
      ]
     },
     "execution_count": 56,
     "metadata": {},
     "output_type": "execute_result"
    }
   ],
   "source": [
    "np.sqrt(arr1)#for square root"
   ]
  },
  {
   "cell_type": "code",
   "execution_count": 57,
   "id": "078ffe8d",
   "metadata": {},
   "outputs": [
    {
     "data": {
      "text/plain": [
       "2.581988897471611"
      ]
     },
     "execution_count": 57,
     "metadata": {},
     "output_type": "execute_result"
    }
   ],
   "source": [
    "np.std(arr1)#for standard divison"
   ]
  },
  {
   "cell_type": "code",
   "execution_count": 58,
   "id": "0d3d4672",
   "metadata": {},
   "outputs": [
    {
     "data": {
      "text/plain": [
       "array([[2.71828183e+00, 7.38905610e+00, 2.00855369e+01],\n",
       "       [5.45981500e+01, 1.48413159e+02, 4.03428793e+02],\n",
       "       [1.09663316e+03, 2.98095799e+03, 8.10308393e+03]])"
      ]
     },
     "execution_count": 58,
     "metadata": {},
     "output_type": "execute_result"
    }
   ],
   "source": [
    "np.exp(arr1)#for exponent"
   ]
  },
  {
   "cell_type": "code",
   "execution_count": 59,
   "id": "2e868e1c",
   "metadata": {},
   "outputs": [
    {
     "data": {
      "text/plain": [
       "array([[0.        , 0.69314718, 1.09861229],\n",
       "       [1.38629436, 1.60943791, 1.79175947],\n",
       "       [1.94591015, 2.07944154, 2.19722458]])"
      ]
     },
     "execution_count": 59,
     "metadata": {},
     "output_type": "execute_result"
    }
   ],
   "source": [
    "np.log(arr1)#nature log"
   ]
  },
  {
   "cell_type": "code",
   "execution_count": 60,
   "id": "a42a0496",
   "metadata": {},
   "outputs": [
    {
     "data": {
      "text/plain": [
       "array([[0.        , 0.30103   , 0.47712125],\n",
       "       [0.60205999, 0.69897   , 0.77815125],\n",
       "       [0.84509804, 0.90308999, 0.95424251]])"
      ]
     },
     "execution_count": 60,
     "metadata": {},
     "output_type": "execute_result"
    }
   ],
   "source": [
    "np.log10(arr1)#for log base 10"
   ]
  },
  {
   "cell_type": "markdown",
   "id": "5420b413",
   "metadata": {},
   "source": [
    "# Numpy Array Slicing"
   ]
  },
  {
   "cell_type": "code",
   "execution_count": 63,
   "id": "62146265",
   "metadata": {},
   "outputs": [
    {
     "name": "stdout",
     "output_type": "stream",
     "text": [
      "[[  1   2   3   4   5   6   7   8   9  10]\n",
      " [ 11  12  13  14  15  16  17  18  19  20]\n",
      " [ 21  22  23  24  25  26  27  28  29  30]\n",
      " [ 31  32  33  34  35  36  37  38  39  40]\n",
      " [ 41  42  43  44  45  46  47  48  49  50]\n",
      " [ 51  52  53  54  55  56  57  58  59  60]\n",
      " [ 61  62  63  64  65  66  67  68  69  70]\n",
      " [ 71  72  73  74  75  76  77  78  79  80]\n",
      " [ 81  82  83  84  85  86  87  88  89  90]\n",
      " [ 91  92  93  94  95  96  97  98  99 100]]\n"
     ]
    }
   ],
   "source": [
    "matrix=np.arange(1,101).reshape(10,10)#creating array and defining it row 10 and 10 cloumns (converting it into 2D)\n",
    "print(matrix)"
   ]
  },
  {
   "cell_type": "code",
   "execution_count": 64,
   "id": "49a1b076",
   "metadata": {},
   "outputs": [
    {
     "data": {
      "text/plain": [
       "1"
      ]
     },
     "execution_count": 64,
     "metadata": {},
     "output_type": "execute_result"
    }
   ],
   "source": [
    "matrix[0,0]#matrix[row,column]"
   ]
  },
  {
   "cell_type": "code",
   "execution_count": 65,
   "id": "0405fd58",
   "metadata": {},
   "outputs": [
    {
     "data": {
      "text/plain": [
       "59"
      ]
     },
     "execution_count": 65,
     "metadata": {},
     "output_type": "execute_result"
    }
   ],
   "source": [
    "matrix[5,8]"
   ]
  },
  {
   "cell_type": "code",
   "execution_count": 66,
   "id": "216adffe",
   "metadata": {},
   "outputs": [
    {
     "data": {
      "text/plain": [
       "array([ 1,  2,  3,  4,  5,  6,  7,  8,  9, 10])"
      ]
     },
     "execution_count": 66,
     "metadata": {},
     "output_type": "execute_result"
    }
   ],
   "source": [
    "matrix[0]#for whole row"
   ]
  },
  {
   "cell_type": "code",
   "execution_count": 68,
   "id": "6c48e7fb",
   "metadata": {},
   "outputs": [
    {
     "data": {
      "text/plain": [
       "array([ 1, 11, 21, 31, 41, 51, 61, 71, 81, 91])"
      ]
     },
     "execution_count": 68,
     "metadata": {},
     "output_type": "execute_result"
    }
   ],
   "source": [
    "matrix[:,0]#for specific whole column"
   ]
  },
  {
   "cell_type": "code",
   "execution_count": 69,
   "id": "6feff496",
   "metadata": {},
   "outputs": [
    {
     "data": {
      "text/plain": [
       "array([[ 1],\n",
       "       [11],\n",
       "       [21],\n",
       "       [31],\n",
       "       [41],\n",
       "       [51],\n",
       "       [61],\n",
       "       [71],\n",
       "       [81],\n",
       "       [91]])"
      ]
     },
     "execution_count": 69,
     "metadata": {},
     "output_type": "execute_result"
    }
   ],
   "source": [
    "matrix[:,0:1] #for generating multi-dim array"
   ]
  },
  {
   "cell_type": "code",
   "execution_count": 71,
   "id": "34908f1d",
   "metadata": {},
   "outputs": [
    {
     "data": {
      "text/plain": [
       "2"
      ]
     },
     "execution_count": 71,
     "metadata": {},
     "output_type": "execute_result"
    }
   ],
   "source": [
    "matrix[:,0:1].ndim#for checking dimensions"
   ]
  },
  {
   "cell_type": "code",
   "execution_count": 72,
   "id": "e60e618d",
   "metadata": {},
   "outputs": [
    {
     "data": {
      "text/plain": [
       "array([[12, 13, 14, 15],\n",
       "       [22, 23, 24, 25],\n",
       "       [32, 33, 34, 35]])"
      ]
     },
     "execution_count": 72,
     "metadata": {},
     "output_type": "execute_result"
    }
   ],
   "source": [
    "matrix[1:4,1:5] #for giving sepecific range to get matrix within matrix=> 1st( 1st index) row : 4th column( until 3rd index)"
   ]
  },
  {
   "cell_type": "code",
   "execution_count": 73,
   "id": "368e2686",
   "metadata": {},
   "outputs": [
    {
     "data": {
      "text/plain": [
       "array([[  1,   2,   3,   4,   5,   6,   7,   8,   9,  10],\n",
       "       [ 11,  12,  13,  14,  15,  16,  17,  18,  19,  20],\n",
       "       [ 21,  22,  23,  24,  25,  26,  27,  28,  29,  30],\n",
       "       [ 31,  32,  33,  34,  35,  36,  37,  38,  39,  40],\n",
       "       [ 41,  42,  43,  44,  45,  46,  47,  48,  49,  50],\n",
       "       [ 51,  52,  53,  54,  55,  56,  57,  58,  59,  60],\n",
       "       [ 61,  62,  63,  64,  65,  66,  67,  68,  69,  70],\n",
       "       [ 71,  72,  73,  74,  75,  76,  77,  78,  79,  80],\n",
       "       [ 81,  82,  83,  84,  85,  86,  87,  88,  89,  90],\n",
       "       [ 91,  92,  93,  94,  95,  96,  97,  98,  99, 100]])"
      ]
     },
     "execution_count": 73,
     "metadata": {},
     "output_type": "execute_result"
    }
   ],
   "source": [
    "matrix[::]"
   ]
  },
  {
   "cell_type": "code",
   "execution_count": 74,
   "id": "8ae99b14",
   "metadata": {},
   "outputs": [
    {
     "data": {
      "text/plain": [
       "4"
      ]
     },
     "execution_count": 74,
     "metadata": {},
     "output_type": "execute_result"
    }
   ],
   "source": [
    "matrix.itemsize #to check how much matrix size is"
   ]
  },
  {
   "cell_type": "markdown",
   "id": "501aabb8",
   "metadata": {},
   "source": [
    "# Array contactinaton and split"
   ]
  },
  {
   "cell_type": "raw",
   "id": "5930c96a",
   "metadata": {},
   "source": []
  },
  {
   "cell_type": "code",
   "execution_count": 77,
   "id": "11a9badf",
   "metadata": {},
   "outputs": [
    {
     "name": "stdout",
     "output_type": "stream",
     "text": [
      "[[ 1  2  3  4]\n",
      " [ 5  6  7  8]\n",
      " [ 9 10 11 12]\n",
      " [13 14 15 16]]\n"
     ]
    }
   ],
   "source": [
    "arr1=np.arange(1,17).reshape(4,4)\n",
    "print(arr1)"
   ]
  },
  {
   "cell_type": "code",
   "execution_count": 78,
   "id": "7f26b586",
   "metadata": {},
   "outputs": [
    {
     "name": "stdout",
     "output_type": "stream",
     "text": [
      "[[17 18 19 20]\n",
      " [21 22 23 24]\n",
      " [25 26 27 28]\n",
      " [29 30 31 32]]\n"
     ]
    }
   ],
   "source": [
    "arr2=np.arange(17,33).reshape(4,4)\n",
    "print(arr2)"
   ]
  },
  {
   "cell_type": "code",
   "execution_count": 79,
   "id": "f6a471f4",
   "metadata": {},
   "outputs": [
    {
     "data": {
      "text/plain": [
       "array([[ 1,  2,  3,  4],\n",
       "       [ 5,  6,  7,  8],\n",
       "       [ 9, 10, 11, 12],\n",
       "       [13, 14, 15, 16],\n",
       "       [17, 18, 19, 20],\n",
       "       [21, 22, 23, 24],\n",
       "       [25, 26, 27, 28],\n",
       "       [29, 30, 31, 32]])"
      ]
     },
     "execution_count": 79,
     "metadata": {},
     "output_type": "execute_result"
    }
   ],
   "source": [
    "np.concatenate((arr1,arr2))#by defualt axis=0"
   ]
  },
  {
   "cell_type": "code",
   "execution_count": 80,
   "id": "4e437416",
   "metadata": {},
   "outputs": [
    {
     "data": {
      "text/plain": [
       "array([[ 1,  2,  3,  4, 17, 18, 19, 20],\n",
       "       [ 5,  6,  7,  8, 21, 22, 23, 24],\n",
       "       [ 9, 10, 11, 12, 25, 26, 27, 28],\n",
       "       [13, 14, 15, 16, 29, 30, 31, 32]])"
      ]
     },
     "execution_count": 80,
     "metadata": {},
     "output_type": "execute_result"
    }
   ],
   "source": [
    "np.concatenate((arr1,arr2),axis=1)# for row wise concatenation axis=1"
   ]
  },
  {
   "cell_type": "code",
   "execution_count": 82,
   "id": "23126217",
   "metadata": {},
   "outputs": [
    {
     "data": {
      "text/plain": [
       "array([[ 1,  2,  3,  4],\n",
       "       [ 5,  6,  7,  8],\n",
       "       [ 9, 10, 11, 12],\n",
       "       [13, 14, 15, 16],\n",
       "       [17, 18, 19, 20],\n",
       "       [21, 22, 23, 24],\n",
       "       [25, 26, 27, 28],\n",
       "       [29, 30, 31, 32]])"
      ]
     },
     "execution_count": 82,
     "metadata": {},
     "output_type": "execute_result"
    }
   ],
   "source": [
    "np.vstack((arr1,arr2))# for vertical concatenation column wise"
   ]
  },
  {
   "cell_type": "code",
   "execution_count": 83,
   "id": "3e0bb421",
   "metadata": {},
   "outputs": [
    {
     "data": {
      "text/plain": [
       "array([[ 1,  2,  3,  4, 17, 18, 19, 20],\n",
       "       [ 5,  6,  7,  8, 21, 22, 23, 24],\n",
       "       [ 9, 10, 11, 12, 25, 26, 27, 28],\n",
       "       [13, 14, 15, 16, 29, 30, 31, 32]])"
      ]
     },
     "execution_count": 83,
     "metadata": {},
     "output_type": "execute_result"
    }
   ],
   "source": [
    "np.hstack((arr1,arr2))# for horizontal concatenation"
   ]
  },
  {
   "cell_type": "code",
   "execution_count": 84,
   "id": "7da43946",
   "metadata": {},
   "outputs": [
    {
     "data": {
      "text/plain": [
       "array([[ 1,  2,  3,  4, 17, 18, 19, 20, 17, 18, 19, 20],\n",
       "       [ 5,  6,  7,  8, 21, 22, 23, 24, 21, 22, 23, 24],\n",
       "       [ 9, 10, 11, 12, 25, 26, 27, 28, 25, 26, 27, 28],\n",
       "       [13, 14, 15, 16, 29, 30, 31, 32, 29, 30, 31, 32]])"
      ]
     },
     "execution_count": 84,
     "metadata": {},
     "output_type": "execute_result"
    }
   ],
   "source": [
    "np.hstack((arr1,arr2,arr2))"
   ]
  },
  {
   "cell_type": "code",
   "execution_count": 85,
   "id": "fc04d9cb",
   "metadata": {},
   "outputs": [
    {
     "data": {
      "text/plain": [
       "[array([[1, 2, 3, 4],\n",
       "        [5, 6, 7, 8]]),\n",
       " array([[ 9, 10, 11, 12],\n",
       "        [13, 14, 15, 16]])]"
      ]
     },
     "execution_count": 85,
     "metadata": {},
     "output_type": "execute_result"
    }
   ],
   "source": [
    "#split (array, no of parts, axis)\n",
    "np.split(arr1,2)# Remember split() always stores value in list form (list that contains array)"
   ]
  },
  {
   "cell_type": "code",
   "execution_count": 86,
   "id": "ffb1a75e",
   "metadata": {},
   "outputs": [
    {
     "data": {
      "text/plain": [
       "list"
      ]
     },
     "execution_count": 86,
     "metadata": {},
     "output_type": "execute_result"
    }
   ],
   "source": [
    "typ=np.split(arr1,2)\n",
    "type(typ)"
   ]
  },
  {
   "cell_type": "code",
   "execution_count": 89,
   "id": "5913b852",
   "metadata": {},
   "outputs": [],
   "source": [
    "a=typ[0]"
   ]
  },
  {
   "cell_type": "code",
   "execution_count": 91,
   "id": "14238784",
   "metadata": {},
   "outputs": [
    {
     "data": {
      "text/plain": [
       "numpy.ndarray"
      ]
     },
     "execution_count": 91,
     "metadata": {},
     "output_type": "execute_result"
    }
   ],
   "source": [
    "type(a)"
   ]
  },
  {
   "cell_type": "code",
   "execution_count": 92,
   "id": "98cfde4f",
   "metadata": {},
   "outputs": [
    {
     "data": {
      "text/plain": [
       "[array([[ 1,  2],\n",
       "        [ 5,  6],\n",
       "        [ 9, 10],\n",
       "        [13, 14]]),\n",
       " array([[ 3,  4],\n",
       "        [ 7,  8],\n",
       "        [11, 12],\n",
       "        [15, 16]])]"
      ]
     },
     "execution_count": 92,
     "metadata": {},
     "output_type": "execute_result"
    }
   ],
   "source": [
    "np.split(arr1, 2, axis=1)"
   ]
  },
  {
   "cell_type": "code",
   "execution_count": 93,
   "id": "a050ab05",
   "metadata": {},
   "outputs": [
    {
     "name": "stdout",
     "output_type": "stream",
     "text": [
      "[1 3 4 5 6]\n"
     ]
    }
   ],
   "source": [
    "d1_arr=np.array([1,3,4,5,6])\n",
    "print(d1_arr)"
   ]
  },
  {
   "cell_type": "code",
   "execution_count": 96,
   "id": "2e8bd3a8",
   "metadata": {},
   "outputs": [
    {
     "data": {
      "text/plain": [
       "[array([1]), array([3, 4]), array([5, 6])]"
      ]
     },
     "execution_count": 96,
     "metadata": {},
     "output_type": "execute_result"
    }
   ],
   "source": [
    "np.split(d1_arr, [1,3])# 1st index , then upto 3rd index and the remaining part will be another array"
   ]
  },
  {
   "cell_type": "markdown",
   "id": "e7fdc441",
   "metadata": {},
   "source": [
    "# Find trignography tan() sin() cos() and the Ploting"
   ]
  },
  {
   "cell_type": "code",
   "execution_count": 113,
   "id": "8de9f29c",
   "metadata": {},
   "outputs": [
    {
     "name": "stderr",
     "output_type": "stream",
     "text": [
      "Matplotlib is building the font cache; this may take a moment.\n"
     ]
    }
   ],
   "source": [
    "import matplotlib as plt\n",
    "import matplotlib.pyplot as plt\n"
   ]
  },
  {
   "cell_type": "code",
   "execution_count": 98,
   "id": "fed99049",
   "metadata": {},
   "outputs": [
    {
     "data": {
      "text/plain": [
       "-0.8011526357338304"
      ]
     },
     "execution_count": 98,
     "metadata": {},
     "output_type": "execute_result"
    }
   ],
   "source": [
    "np.sin(180)"
   ]
  },
  {
   "cell_type": "code",
   "execution_count": 99,
   "id": "5a78895a",
   "metadata": {},
   "outputs": [
    {
     "data": {
      "text/plain": [
       "0.8939966636005579"
      ]
     },
     "execution_count": 99,
     "metadata": {},
     "output_type": "execute_result"
    }
   ],
   "source": [
    "np.sin(90)"
   ]
  },
  {
   "cell_type": "code",
   "execution_count": 100,
   "id": "faa064f8",
   "metadata": {},
   "outputs": [
    {
     "data": {
      "text/plain": [
       "-0.5984600690578581"
      ]
     },
     "execution_count": 100,
     "metadata": {},
     "output_type": "execute_result"
    }
   ],
   "source": [
    "np.cos(180)"
   ]
  },
  {
   "cell_type": "code",
   "execution_count": 101,
   "id": "ff8e9b7a",
   "metadata": {},
   "outputs": [
    {
     "data": {
      "text/plain": [
       "-0.4480736161291701"
      ]
     },
     "execution_count": 101,
     "metadata": {},
     "output_type": "execute_result"
    }
   ],
   "source": [
    "np.cos(90)"
   ]
  },
  {
   "cell_type": "code",
   "execution_count": 102,
   "id": "cbbfd073",
   "metadata": {},
   "outputs": [
    {
     "data": {
      "text/plain": [
       "1.3386902103511544"
      ]
     },
     "execution_count": 102,
     "metadata": {},
     "output_type": "execute_result"
    }
   ],
   "source": [
    "np.tan(180)"
   ]
  },
  {
   "cell_type": "code",
   "execution_count": 104,
   "id": "c02f4d36",
   "metadata": {},
   "outputs": [
    {
     "name": "stdout",
     "output_type": "stream",
     "text": [
      "[0.  0.1 0.2 0.3 0.4 0.5 0.6 0.7 0.8 0.9 1.  1.1 1.2 1.3 1.4 1.5 1.6 1.7\n",
      " 1.8 1.9 2.  2.1 2.2 2.3 2.4 2.5 2.6 2.7 2.8 2.9 3.  3.1 3.2 3.3 3.4 3.5\n",
      " 3.6 3.7 3.8 3.9 4.  4.1 4.2 4.3 4.4 4.5 4.6 4.7 4.8 4.9 5.  5.1 5.2 5.3\n",
      " 5.4 5.5 5.6 5.7 5.8 5.9 6.  6.1 6.2 6.3 6.4 6.5 6.6 6.7 6.8 6.9 7.  7.1\n",
      " 7.2 7.3 7.4 7.5 7.6 7.7 7.8 7.9 8.  8.1 8.2 8.3 8.4 8.5 8.6 8.7 8.8 8.9\n",
      " 9.  9.1 9.2 9.3 9.4]\n"
     ]
    }
   ],
   "source": [
    "x_sin=np.arange(0, 3*np.pi, 0.1)\n",
    "print(x_sin)"
   ]
  },
  {
   "cell_type": "code",
   "execution_count": 111,
   "id": "69ead2c1",
   "metadata": {},
   "outputs": [
    {
     "name": "stdout",
     "output_type": "stream",
     "text": [
      "[ 0.          0.09983342  0.19866933  0.29552021  0.38941834  0.47942554\n",
      "  0.56464247  0.64421769  0.71735609  0.78332691  0.84147098  0.89120736\n",
      "  0.93203909  0.96355819  0.98544973  0.99749499  0.9995736   0.99166481\n",
      "  0.97384763  0.94630009  0.90929743  0.86320937  0.8084964   0.74570521\n",
      "  0.67546318  0.59847214  0.51550137  0.42737988  0.33498815  0.23924933\n",
      "  0.14112001  0.04158066 -0.05837414 -0.15774569 -0.2555411  -0.35078323\n",
      " -0.44252044 -0.52983614 -0.61185789 -0.68776616 -0.7568025  -0.81827711\n",
      " -0.87157577 -0.91616594 -0.95160207 -0.97753012 -0.993691   -0.99992326\n",
      " -0.99616461 -0.98245261 -0.95892427 -0.92581468 -0.88345466 -0.83226744\n",
      " -0.77276449 -0.70554033 -0.63126664 -0.55068554 -0.46460218 -0.37387666\n",
      " -0.2794155  -0.1821625  -0.0830894   0.0168139   0.1165492   0.21511999\n",
      "  0.31154136  0.40484992  0.49411335  0.57843976  0.6569866   0.72896904\n",
      "  0.79366786  0.85043662  0.8987081   0.93799998  0.96791967  0.98816823\n",
      "  0.99854335  0.99894134  0.98935825  0.96988981  0.94073056  0.90217183\n",
      "  0.85459891  0.79848711  0.7343971   0.66296923  0.58491719  0.50102086\n",
      "  0.41211849  0.31909836  0.22288991  0.12445442  0.02477543]\n"
     ]
    }
   ],
   "source": [
    "y_sin=np.sin(x_sin)\n",
    "print(y_sin)"
   ]
  },
  {
   "cell_type": "code",
   "execution_count": 121,
   "id": "e3e62aed",
   "metadata": {},
   "outputs": [
    {
     "data": {
      "image/png": "[encoded data removed]",
      "text/plain": [
       "<Figure size 432x288 with 1 Axes>"
      ]
     },
     "metadata": {
      "needs_background": "light"
     },
     "output_type": "display_data"
    }
   ],
   "source": [
    "plt.plot(x_sin,y_sin)\n",
    "plt.show()"
   ]
  },
  {
   "cell_type": "code",
   "execution_count": 124,
   "id": "172fa5a0",
   "metadata": {},
   "outputs": [
    {
     "name": "stdout",
     "output_type": "stream",
     "text": [
      "[1.         0.99502078 0.98033007 0.95665077 0.92513004 0.88726005\n",
      " 0.84477997 0.79956985 0.75354645 0.70856986 0.66636675 0.62847336\n",
      " 0.59619817 0.57060153 0.55248831 0.5424085  0.54066106 0.54729728\n",
      " 0.5621215  0.58468867 0.61430028 0.65000192 0.69058669 0.73460961\n",
      " 0.78041743 0.82619734 0.87004567 0.91005488 0.94441421 0.97151614\n",
      " 0.99005909 0.99913565 0.99829671 0.98758393 0.96752666 0.93910386\n",
      " 0.90367523 0.8628899  0.81858228 0.77266601 0.72703513 0.68347988\n",
      " 0.64362134 0.60886608 0.58037919 0.55907208 0.54560036 0.54036688\n",
      " 0.54352569 0.55498399 0.57440088 0.60118377 0.63448471 0.67320081\n",
      " 0.71598347 0.76126129 0.80728063 0.852166   0.89399989 0.93091848\n",
      " 0.9612168  0.98345424 0.99655006 0.99985865 0.99321583 0.97695079\n",
      " 0.95186223 0.91916152 0.88038955 0.83731668 0.79183621 0.74586152\n",
      " 0.70123511 0.65965506 0.62262143 0.59140198 0.56701434 0.55022034\n",
      " 0.54152746 0.54119283 0.54922627 0.56539042 0.5891979  0.61990725\n",
      " 0.65652111 0.69779119 0.74223492 0.78816827 0.83375781 0.87709268\n",
      " 0.91627432 0.94951866 0.97526271 0.99226554 0.9996931 ]\n"
     ]
    },
    {
     "data": {
      "image/png": "[encoded data removed]",
      "text/plain": [
       "<Figure size 432x288 with 1 Axes>"
      ]
     },
     "metadata": {
      "needs_background": "light"
     },
     "output_type": "display_data"
    }
   ],
   "source": [
    "y_cos=np.cos(y_sin)\n",
    "print(y_cos)\n",
    "plt.plot(y_sin,y_cos)\n",
    "plt.show()"
   ]
  },
  {
   "cell_type": "code",
   "execution_count": 126,
   "id": "2688588d",
   "metadata": {},
   "outputs": [
    {
     "name": "stdout",
     "output_type": "stream",
     "text": [
      "[1.55740772 1.54048243 1.4920226  1.41822358 1.32733626 1.22770648\n",
      " 1.12641925 1.02875277 0.93824277 0.85704501 0.78635739 0.72677912\n",
      " 0.67857001 0.64181754 0.61653411 0.60270828 0.60032857 0.60939268\n",
      " 0.62990886 0.6618904  0.70533911 0.76020742 0.82632291 0.90325331\n",
      " 0.99008782 1.08511835 1.1854347  1.28651508 1.3820017  1.46395605\n",
      " 1.52387302 1.55445085 1.55158852 1.51568095 1.45148921 1.3666614\n",
      " 1.26971402 1.16836772 1.06867227 0.9748545  0.88959228 0.81443312\n",
      " 0.75018788 0.69723238 0.65571054 0.62565763 0.607068   0.59992844\n",
      " 0.60423233 0.61998374 0.6471951  0.68587604 0.73600613 0.79747729\n",
      " 0.86998657 0.95285503 1.04475134 1.14331771 1.24474628 1.34344686\n",
      " 1.43206327 1.50214881 1.545653   1.55692363 1.53441103 1.48117523\n",
      " 1.40390075 1.31098164 1.21062415 1.10962723 1.01295971 0.92389596\n",
      " 0.84440194 0.77555235 0.71787392 0.67158805 0.63676429 0.61340842\n",
      " 0.60150783 0.60105222 0.61204114 0.63448428 0.66839458 0.71376899\n",
      " 0.77054554 0.83851954 0.91719616 1.00555561 1.10171763 1.20252763\n",
      " 1.30316185 1.39696095 1.47579716 1.53122801 1.55635695]\n"
     ]
    },
    {
     "data": {
      "image/png": "[encoded data removed]",
      "text/plain": [
       "<Figure size 432x288 with 1 Axes>"
      ]
     },
     "metadata": {
      "needs_background": "light"
     },
     "output_type": "display_data"
    }
   ],
   "source": [
    "y_tan=np.tan(y_cos)\n",
    "print(y_tan)\n",
    "plt.plot(y_tan, y_cos)\n",
    "plt.show()"
   ]
  },
  {
   "cell_type": "markdown",
   "id": "40a3be35",
   "metadata": {},
   "source": [
    "# Random Samplying using NumPy"
   ]
  },
  {
   "cell_type": "code",
   "execution_count": 127,
   "id": "26594fb8",
   "metadata": {},
   "outputs": [],
   "source": [
    "import random"
   ]
  },
  {
   "cell_type": "code",
   "execution_count": 130,
   "id": "7d783894",
   "metadata": {},
   "outputs": [
    {
     "data": {
      "text/plain": [
       "array([0.70804884, 0.89904361, 0.34561124])"
      ]
     },
     "execution_count": 130,
     "metadata": {},
     "output_type": "execute_result"
    }
   ],
   "source": [
    "np.random.random(3)#random.random() will always give values b/w 0 & 1 and return result in array form"
   ]
  },
  {
   "cell_type": "code",
   "execution_count": 131,
   "id": "a72bf685",
   "metadata": {},
   "outputs": [
    {
     "data": {
      "text/plain": [
       "array([[0.33008516, 0.5708722 , 0.57978374],\n",
       "       [0.06828825, 0.04113462, 0.43232157],\n",
       "       [0.20363504, 0.19893126, 0.5223388 ]])"
      ]
     },
     "execution_count": 131,
     "metadata": {},
     "output_type": "execute_result"
    }
   ],
   "source": [
    "np.random.random((3,3)) #creating random 2D array"
   ]
  },
  {
   "cell_type": "code",
   "execution_count": 132,
   "id": "3e86bdfe",
   "metadata": {},
   "outputs": [
    {
     "data": {
      "text/plain": [
       "5"
      ]
     },
     "execution_count": 132,
     "metadata": {},
     "output_type": "execute_result"
    }
   ],
   "source": [
    "np.random.randint(1,8)# randint() gives random no b/w 1 and 7 (note 8 is exclusive)"
   ]
  },
  {
   "cell_type": "code",
   "execution_count": 133,
   "id": "b9ccb5d5",
   "metadata": {},
   "outputs": [
    {
     "data": {
      "text/plain": [
       "array([[6, 6, 8, 5],\n",
       "       [6, 2, 5, 8],\n",
       "       [6, 3, 2, 1],\n",
       "       [7, 5, 1, 3]])"
      ]
     },
     "execution_count": 133,
     "metadata": {},
     "output_type": "execute_result"
    }
   ],
   "source": [
    "np.random.randint(1,9,(4,4))# where tuple (4,4 ) is shape of matrix which is 4 by 4 which is 2D array"
   ]
  },
  {
   "cell_type": "code",
   "execution_count": 134,
   "id": "0539e15f",
   "metadata": {},
   "outputs": [
    {
     "data": {
      "text/plain": [
       "array([[[3, 6, 7, 6],\n",
       "        [7, 4, 3, 6],\n",
       "        [7, 3, 4, 6],\n",
       "        [3, 6, 7, 3]],\n",
       "\n",
       "       [[3, 2, 5, 1],\n",
       "        [6, 1, 3, 6],\n",
       "        [3, 7, 2, 1],\n",
       "        [1, 1, 3, 7]]])"
      ]
     },
     "execution_count": 134,
     "metadata": {},
     "output_type": "execute_result"
    }
   ],
   "source": [
    "np.random.randint(1,8,(2,4,4))# same as above but (2,4,4) represents 3D matrix creation"
   ]
  },
  {
   "cell_type": "code",
   "execution_count": 135,
   "id": "f79a4fed",
   "metadata": {},
   "outputs": [
    {
     "data": {
      "text/plain": [
       "array([[[2, 6, 5, 1],\n",
       "        [2, 4, 5, 2],\n",
       "        [6, 1, 6, 2],\n",
       "        [3, 1, 2, 1]],\n",
       "\n",
       "       [[3, 1, 7, 5],\n",
       "        [4, 1, 5, 4],\n",
       "        [7, 1, 4, 3],\n",
       "        [7, 2, 1, 5]]])"
      ]
     },
     "execution_count": 135,
     "metadata": {},
     "output_type": "execute_result"
    }
   ],
   "source": [
    "np.random.seed(10)#now this seed will be used next time to produce same Matrix data\n",
    "np.random.randint(1,8,(2,4,4))"
   ]
  },
  {
   "cell_type": "code",
   "execution_count": 136,
   "id": "43ec46b3",
   "metadata": {},
   "outputs": [
    {
     "data": {
      "text/plain": [
       "array([[[2, 6, 5, 1],\n",
       "        [2, 4, 5, 2],\n",
       "        [6, 1, 6, 2],\n",
       "        [3, 1, 2, 1]],\n",
       "\n",
       "       [[3, 1, 7, 5],\n",
       "        [4, 1, 5, 4],\n",
       "        [7, 1, 4, 3],\n",
       "        [7, 2, 1, 5]]])"
      ]
     },
     "execution_count": 136,
     "metadata": {},
     "output_type": "execute_result"
    }
   ],
   "source": [
    "np.random.seed(10)#you can see above matrix same as this one\n",
    "np.random.randint(1,8,(2,4,4))"
   ]
  },
  {
   "cell_type": "code",
   "execution_count": 137,
   "id": "8cd7b970",
   "metadata": {},
   "outputs": [
    {
     "data": {
      "text/plain": [
       "array([[0.29187607, 0.91777412, 0.71457578],\n",
       "       [0.54254437, 0.14217005, 0.37334076],\n",
       "       [0.67413362, 0.44183317, 0.43401399]])"
      ]
     },
     "execution_count": 137,
     "metadata": {},
     "output_type": "execute_result"
    }
   ],
   "source": [
    "np.random.rand(3,3) # to create array randomly and values b/w 0 & 1"
   ]
  },
  {
   "cell_type": "code",
   "execution_count": 139,
   "id": "e02b8dae",
   "metadata": {},
   "outputs": [
    {
     "data": {
      "text/plain": [
       "array([[ 0.26607016,  2.38496733,  1.12369125],\n",
       "       [ 1.67262221,  0.09914922,  1.39799638],\n",
       "       [-0.27124799,  0.61320418, -0.26731719]])"
      ]
     },
     "execution_count": 139,
     "metadata": {},
     "output_type": "execute_result"
    }
   ],
   "source": [
    "np.random.randn(3,3) #for neagtive positive values as well"
   ]
  },
  {
   "cell_type": "code",
   "execution_count": 141,
   "id": "fa863b54",
   "metadata": {},
   "outputs": [
    {
     "data": {
      "text/plain": [
       "1"
      ]
     },
     "execution_count": 141,
     "metadata": {},
     "output_type": "execute_result"
    }
   ],
   "source": [
    "x=[1,2,3,4,5] #using choice() you can get values between the defines array\n",
    "np.random.choice(x)"
   ]
  },
  {
   "cell_type": "code",
   "execution_count": 143,
   "id": "75d6c78a",
   "metadata": {},
   "outputs": [
    {
     "name": "stdout",
     "output_type": "stream",
     "text": [
      "5\n",
      "1\n",
      "1\n",
      "3\n",
      "5\n",
      "3\n",
      "1\n",
      "1\n",
      "3\n",
      "4\n"
     ]
    }
   ],
   "source": [
    "for i in  range(10):\n",
    "    print(np.random.choice(x))"
   ]
  },
  {
   "cell_type": "code",
   "execution_count": 144,
   "id": "2acb6770",
   "metadata": {},
   "outputs": [
    {
     "data": {
      "text/plain": [
       "[1, 2, 3, 4, 5]"
      ]
     },
     "execution_count": 144,
     "metadata": {},
     "output_type": "execute_result"
    }
   ],
   "source": [
    "#permutation \n",
    "x"
   ]
  },
  {
   "cell_type": "code",
   "execution_count": 145,
   "id": "a1591f44",
   "metadata": {},
   "outputs": [
    {
     "data": {
      "text/plain": [
       "array([2, 3, 4, 5, 1])"
      ]
     },
     "execution_count": 145,
     "metadata": {},
     "output_type": "execute_result"
    }
   ],
   "source": [
    "np.random.permutation(x)"
   ]
  },
  {
   "cell_type": "code",
   "execution_count": 147,
   "id": "eda33d41",
   "metadata": {},
   "outputs": [
    {
     "data": {
      "text/plain": [
       "array([4, 3, 1, 5, 2])"
      ]
     },
     "execution_count": 147,
     "metadata": {},
     "output_type": "execute_result"
    }
   ],
   "source": [
    "np.random.permutation(x)# you can see different random arrays are generated through permutation of given array x"
   ]
  },
  {
   "cell_type": "markdown",
   "id": "d96b433f",
   "metadata": {},
   "source": [
    "# String operations, comparsions and Information"
   ]
  },
  {
   "cell_type": "code",
   "execution_count": 148,
   "id": "16500786",
   "metadata": {},
   "outputs": [],
   "source": [
    "name='My name is Usama Malik & '\n",
    "deg='I am Software Engineer'"
   ]
  },
  {
   "cell_type": "code",
   "execution_count": 149,
   "id": "2d24c650",
   "metadata": {},
   "outputs": [
    {
     "data": {
      "text/plain": [
       "array('My name is Usama Malik & I am Software Engineer', dtype='<U47')"
      ]
     },
     "execution_count": 149,
     "metadata": {},
     "output_type": "execute_result"
    }
   ],
   "source": [
    "np.char.add(name, deg) #To join 2 string "
   ]
  },
  {
   "cell_type": "code",
   "execution_count": 150,
   "id": "a82c9d28",
   "metadata": {},
   "outputs": [
    {
     "data": {
      "text/plain": [
       "array('my name is usama malik & ', dtype='<U25')"
      ]
     },
     "execution_count": 150,
     "metadata": {},
     "output_type": "execute_result"
    }
   ],
   "source": [
    "np.char.lower(name)"
   ]
  },
  {
   "cell_type": "code",
   "execution_count": 151,
   "id": "9fd62edd",
   "metadata": {},
   "outputs": [
    {
     "data": {
      "text/plain": [
       "array('I AM SOFTWARE ENGINEER', dtype='<U22')"
      ]
     },
     "execution_count": 151,
     "metadata": {},
     "output_type": "execute_result"
    }
   ],
   "source": [
    "np.char.upper(deg)"
   ]
  },
  {
   "cell_type": "code",
   "execution_count": 152,
   "id": "b3f4d33b",
   "metadata": {},
   "outputs": [
    {
     "data": {
      "text/plain": [
       "array('                 My name is Usama Malik &                   ',\n",
       "      dtype='<U60')"
      ]
     },
     "execution_count": 152,
     "metadata": {},
     "output_type": "execute_result"
    }
   ],
   "source": [
    "np.char.center(name, 60)# 1st parameter is string you want to center & 2nd is the space between 60 characters"
   ]
  },
  {
   "cell_type": "code",
   "execution_count": 153,
   "id": "1757939d",
   "metadata": {},
   "outputs": [
    {
     "data": {
      "text/plain": [
       "array('*****************My name is Usama Malik & ******************',\n",
       "      dtype='<U60')"
      ]
     },
     "execution_count": 153,
     "metadata": {},
     "output_type": "execute_result"
    }
   ],
   "source": [
    "np.char.center(name, 60, fillchar='*')"
   ]
  },
  {
   "cell_type": "code",
   "execution_count": 154,
   "id": "364daf3b",
   "metadata": {},
   "outputs": [
    {
     "data": {
      "text/plain": [
       "array(list(['My', 'name', 'is', 'Usama', 'Malik', '&']), dtype=object)"
      ]
     },
     "execution_count": 154,
     "metadata": {},
     "output_type": "execute_result"
    }
   ],
   "source": [
    "np.char.split(name)"
   ]
  },
  {
   "cell_type": "code",
   "execution_count": 155,
   "id": "2c5657c4",
   "metadata": {},
   "outputs": [
    {
     "data": {
      "text/plain": [
       "array(list(['Usama', 'Malik']), dtype=object)"
      ]
     },
     "execution_count": 155,
     "metadata": {},
     "output_type": "execute_result"
    }
   ],
   "source": [
    "np.char.splitlines('Usama\\nMalik')"
   ]
  },
  {
   "cell_type": "code",
   "execution_count": 161,
   "id": "dba077c3",
   "metadata": {},
   "outputs": [],
   "source": [
    "str1='DMY'\n",
    "str2='DMY'\n"
   ]
  },
  {
   "cell_type": "code",
   "execution_count": 163,
   "id": "890cefa6",
   "metadata": {},
   "outputs": [
    {
     "data": {
      "text/plain": [
       "array(['D:M:Y', 'D/M/Y'], dtype='<U5')"
      ]
     },
     "execution_count": 163,
     "metadata": {},
     "output_type": "execute_result"
    }
   ],
   "source": [
    "np.char.join([\":\",\"/\"],[str1,str2])"
   ]
  },
  {
   "cell_type": "code",
   "execution_count": 164,
   "id": "f3702686",
   "metadata": {},
   "outputs": [
    {
     "data": {
      "text/plain": [
       "array('My name is usama_malik & ', dtype='<U25')"
      ]
     },
     "execution_count": 164,
     "metadata": {},
     "output_type": "execute_result"
    }
   ],
   "source": [
    "np.char.replace(name, 'Usama Malik', 'usama_malik')"
   ]
  },
  {
   "cell_type": "code",
   "execution_count": 165,
   "id": "df115c4d",
   "metadata": {},
   "outputs": [
    {
     "data": {
      "text/plain": [
       "array(True)"
      ]
     },
     "execution_count": 165,
     "metadata": {},
     "output_type": "execute_result"
    }
   ],
   "source": [
    "np.char.equal(str1,str2)"
   ]
  },
  {
   "cell_type": "code",
   "execution_count": 166,
   "id": "5bea18fd",
   "metadata": {},
   "outputs": [
    {
     "data": {
      "text/plain": [
       "array(4)"
      ]
     },
     "execution_count": 166,
     "metadata": {},
     "output_type": "execute_result"
    }
   ],
   "source": [
    "np.char.count(name, 'a')"
   ]
  },
  {
   "cell_type": "code",
   "execution_count": 167,
   "id": "44cfdae3",
   "metadata": {},
   "outputs": [
    {
     "data": {
      "text/plain": [
       "array(2)"
      ]
     },
     "execution_count": 167,
     "metadata": {},
     "output_type": "execute_result"
    }
   ],
   "source": [
    "np.char.count(name,'s')"
   ]
  },
  {
   "cell_type": "code",
   "execution_count": 172,
   "id": "d920968f",
   "metadata": {},
   "outputs": [
    {
     "data": {
      "text/plain": [
       "array(11)"
      ]
     },
     "execution_count": 172,
     "metadata": {},
     "output_type": "execute_result"
    }
   ],
   "source": [
    "np.char.find(name,'Usama Malik')"
   ]
  },
  {
   "cell_type": "markdown",
   "id": "4b8a4cd3",
   "metadata": {},
   "source": [
    "# Numpy Series End :-) This File contains all functions and operations we can do with Numpy"
   ]
  }
 ],
 "metadata": {
  "kernelspec": {
   "display_name": "Python 3 (ipykernel)",
   "language": "python",
   "name": "python3"
  },
  "language_info": {
   "codemirror_mode": {
    "name": "ipython",
    "version": 3
   },
   "file_extension": ".py",
   "mimetype": "text/x-python",
   "name": "python",
   "nbconvert_exporter": "python",
   "pygments_lexer": "ipython3",
   "version": "3.9.12"
  }
 },
 "nbformat": 4,
 "nbformat_minor": 5
}
